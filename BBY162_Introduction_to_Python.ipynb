{
  "nbformat": 4,
  "nbformat_minor": 0,
  "metadata": {
    "colab": {
      "name": "BBY162_Introduction_to_Python.ipynb",
      "provenance": [],
      "toc_visible": true,
      "authorship_tag": "ABX9TyPlMrNQFf+35iGyw8KdsXbE",
      "include_colab_link": true
    },
    "kernelspec": {
      "name": "python3",
      "display_name": "Python 3"
    }
  },
  "cells": [
    {
      "cell_type": "markdown",
      "metadata": {
        "id": "view-in-github",
        "colab_type": "text"
      },
      "source": [
        "<a href=\"https://colab.research.google.com/github/orcunmadran/hu-bby162-2020/blob/master/BBY162_Introduction_to_Python.ipynb\" target=\"_parent\"><img src=\"https://colab.research.google.com/assets/colab-badge.svg\" alt=\"Open In Colab\"/></a>"
      ]
    },
    {
      "cell_type": "markdown",
      "metadata": {
        "id": "6IOyCRzqRgBu",
        "colab_type": "text"
      },
      "source": [
        "Introduction to Python (Pycharm & Stepik) URL: (https://stepik.org/course/238)\n"
      ]
    },
    {
      "cell_type": "markdown",
      "metadata": {
        "id": "AE4EYdj6VPvq",
        "colab_type": "text"
      },
      "source": [
        "# Part 01: Introduction"
      ]
    },
    {
      "cell_type": "markdown",
      "metadata": {
        "id": "4nLn-agoUdfh",
        "colab_type": "text"
      },
      "source": [
        "## Our First Program\n",
        "Traditionally the first program you write in any programming language is \"Hello World!\"."
      ]
    },
    {
      "cell_type": "markdown",
      "metadata": {
        "id": "xhY6ovVFSBp1",
        "colab_type": "text"
      },
      "source": [
        "`print(\"Hello, world! My name is type your name\")`"
      ]
    },
    {
      "cell_type": "markdown",
      "metadata": {
        "id": "UYYNnpAKU1Q5",
        "colab_type": "text"
      },
      "source": [
        "**Task:** Introduce yourself to the World"
      ]
    },
    {
      "cell_type": "code",
      "metadata": {
        "id": "CBHkVbIlUXgW",
        "colab_type": "code",
        "colab": {}
      },
      "source": [
        "print(\"Hello, world! My name is Orçun\")"
      ],
      "execution_count": 0,
      "outputs": []
    },
    {
      "cell_type": "markdown",
      "metadata": {
        "id": "0S8fTkAqVb4v",
        "colab_type": "text"
      },
      "source": [
        "## Comments\n",
        "Comments in Python start with the hash character, #, and extend to the end of the pyhysical line."
      ]
    },
    {
      "cell_type": "markdown",
      "metadata": {
        "colab_type": "text",
        "id": "ql-GYfPYWpUW"
      },
      "source": [
        "```\n",
        "# This is the comment for the BBY162_01_Introduction.ipynb file\n",
        "print(\"Hello!\")  # this comment is for the second line\n",
        "\n",
        "print(\"# this is not a comment\")\n",
        "# add new comment here\n",
        "```\n",
        "\n"
      ]
    },
    {
      "cell_type": "markdown",
      "metadata": {
        "id": "DNymEZFDXHdb",
        "colab_type": "text"
      },
      "source": [
        "**Task:** Add a new comment to the file"
      ]
    },
    {
      "cell_type": "code",
      "metadata": {
        "id": "QzUppEjoXLPM",
        "colab_type": "code",
        "colab": {}
      },
      "source": [
        "# This is the comment for the comments.py file\n",
        "print(\"Hello!\")  # this comment is for the second line\n",
        "\n",
        "print(\"# this is not a comment\")\n",
        "# Bu benim ilk yorumum :)"
      ],
      "execution_count": 0,
      "outputs": []
    },
    {
      "cell_type": "markdown",
      "metadata": {
        "id": "9JeaGlvQYylS",
        "colab_type": "text"
      },
      "source": [
        "# Part 02: Variables"
      ]
    },
    {
      "cell_type": "markdown",
      "metadata": {
        "id": "VzeGixS6Y919",
        "colab_type": "text"
      },
      "source": [
        "## Variable Definition\n",
        "Varibles are used to store values so we can refer to them later. A variable is like a label, and you use the \"=\" symbol, known as the assignment operator, to assign a value to a variable. An assignment can be chained, e.g. a = b = 2"
      ]
    },
    {
      "cell_type": "markdown",
      "metadata": {
        "id": "7tWAdnNlZtQr",
        "colab_type": "text"
      },
      "source": [
        "```\n",
        "a = b = 2  # This is called a \"chained assignment\". It assigns the value 2 to variables \"a\" and \"b\".\n",
        "print(\"a = \" + str(a))   # We'll explain the expression str(a) later in the course. For now it is used to convert the  variable \"a\" to a string.\n",
        "print(\"b = \" + str(b))\n",
        "\n",
        "greetings = \"greetings\"\n",
        "print(\"greetings = \" + str(greetings))\n",
        "greetings = another value\n",
        "print(\"greetings = \" + str(greetings))\n",
        "```"
      ]
    },
    {
      "cell_type": "markdown",
      "metadata": {
        "id": "6D69MP_naGnx",
        "colab_type": "text"
      },
      "source": [
        "**Task:** Change the value stored in the variable *greetings*"
      ]
    },
    {
      "cell_type": "code",
      "metadata": {
        "id": "RmIa5BJsZ2EI",
        "colab_type": "code",
        "colab": {}
      },
      "source": [
        "a = b = 2  # This is called a \"chained assignment\". It assigns the value 2 to variables \"a\" and \"b\".\n",
        "print(\"a = \" + str(a))   # We'll explain the expression str(a) later in the course. For now it is used to convert the  variable \"a\" to a string.\n",
        "print(\"b = \" + str(b))\n",
        "\n",
        "greetings = \"greetings\"\n",
        "print(\"greetings = \" + str(greetings))\n",
        "greetings = \"Great Sezar!\"\n",
        "print(\"greetings = \" + str(greetings))"
      ],
      "execution_count": 0,
      "outputs": []
    },
    {
      "cell_type": "markdown",
      "metadata": {
        "colab_type": "text",
        "id": "2irKEi_raxaB"
      },
      "source": [
        "## Undefined variable\n",
        "Variable names may only contains letters, digits, and/or the underscore characters and cannot start with a digit."
      ]
    },
    {
      "cell_type": "markdown",
      "metadata": {
        "id": "pOxCruNHdp9M",
        "colab_type": "text"
      },
      "source": [
        "```\n",
        "variable = 1\n",
        "```"
      ]
    },
    {
      "cell_type": "markdown",
      "metadata": {
        "id": "CPXFsWhQd1in",
        "colab_type": "text"
      },
      "source": [
        "**Task:** Check what happens if you use a variable which is not defined yet. Try to print out an undefined name"
      ]
    },
    {
      "cell_type": "code",
      "metadata": {
        "id": "1W14OfkxeGuN",
        "colab_type": "code",
        "colab": {}
      },
      "source": [
        "variable = 1\n",
        "print(other variable)"
      ],
      "execution_count": 0,
      "outputs": []
    },
    {
      "cell_type": "markdown",
      "metadata": {
        "id": "BUmtQsBGec6K",
        "colab_type": "text"
      },
      "source": [
        "**Task:** Use valid identifier."
      ]
    },
    {
      "cell_type": "code",
      "metadata": {
        "id": "JrNUlQAyeqHQ",
        "colab_type": "code",
        "colab": {}
      },
      "source": [
        "variable = 1\n",
        "print(variable)"
      ],
      "execution_count": 0,
      "outputs": []
    },
    {
      "cell_type": "markdown",
      "metadata": {
        "id": "_6eRj3kmeyGw",
        "colab_type": "text"
      },
      "source": [
        "## Variable Types\n",
        "In Python, there are two main types of numbers; integers and floats. The most important difference between them is that a float is a number that has a decimal point and an int is a number without a decimal point."
      ]
    },
    {
      "cell_type": "markdown",
      "metadata": {
        "id": "37MxozrGf1-F",
        "colab_type": "text"
      },
      "source": [
        "```\n",
        "## Variable types\n",
        "\n",
        "number = 9\n",
        "print(type(number))   # print type of variable \"number\"\n",
        "\n",
        "float_number = 9.0\n",
        "print(float_number type)\n",
        "```"
      ]
    },
    {
      "cell_type": "markdown",
      "metadata": {
        "id": "Y35P2f5PgS5Q",
        "colab_type": "text"
      },
      "source": [
        "**Task:** Determine the type of the variable *float_number*. "
      ]
    },
    {
      "cell_type": "code",
      "metadata": {
        "id": "UrGfF38CgjdQ",
        "colab_type": "code",
        "colab": {},
        "cellView": "both"
      },
      "source": [
        "## Variable types\n",
        "\n",
        "number = 9\n",
        "print(type(number))   # print type of variable \"number\"\n",
        "\n",
        "float_number = 9.0\n",
        "print(type(float_number))"
      ],
      "execution_count": 0,
      "outputs": []
    },
    {
      "cell_type": "markdown",
      "metadata": {
        "id": "i3Qht_zmjLf2",
        "colab_type": "text"
      },
      "source": [
        "## Type Conversion\n",
        "There are several built-in functions that let you convert one data type to another. These functions return a new object representing the converted value. *int(x)* converts *x* to an integer. *float(x)* converts *x* to a floating-point number. *str(x)* converts *x* to a string representation."
      ]
    },
    {
      "cell_type": "markdown",
      "metadata": {
        "id": "F-Zp8zfmkzJX",
        "colab_type": "text"
      },
      "source": [
        "```\n",
        "number = 9\n",
        "print(type(number))   # print type of variable \"number\"\n",
        "\n",
        "float_number = 9.0\n",
        "print(float_number)\n",
        "print(Convert float_number to integer)\n",
        "```"
      ]
    },
    {
      "cell_type": "markdown",
      "metadata": {
        "id": "7j51gKaIlM-u",
        "colab_type": "text"
      },
      "source": [
        "**Task:** Convert float_number to integer"
      ]
    },
    {
      "cell_type": "code",
      "metadata": {
        "id": "o9ZQ6Jr3lL6A",
        "colab_type": "code",
        "colab": {}
      },
      "source": [
        "number = 9\n",
        "print(type(number))   # print type of variable \"number\"\n",
        "\n",
        "float_number = 9.0\n",
        "print(float_number)\n",
        "print(int(float_number))"
      ],
      "execution_count": 0,
      "outputs": []
    },
    {
      "cell_type": "markdown",
      "metadata": {
        "id": "f5MK6vZOl6dG",
        "colab_type": "text"
      },
      "source": [
        "## Aritmetic Operators\n",
        "Just as with any other programming language, the ( + ), substraction ( - ), multiplication ( * ) and division ( / ) operators can be used with numbers. In addtion Python has the power ( ** ) and modulo ( % ) operators."
      ]
    },
    {
      "cell_type": "markdown",
      "metadata": {
        "id": "1THb0XpGmwSD",
        "colab_type": "text"
      },
      "source": [
        "\n",
        "\n",
        "```\n",
        "number = 9.0        # float number\n",
        "\n",
        "result = divide 'number' by two\n",
        "\n",
        "remainder = calculate the remainder\n",
        "\n",
        "print(\"result = \" + str(result))\n",
        "print(\"remainder = \" + str(remainder))\n",
        "```\n",
        "\n"
      ]
    },
    {
      "cell_type": "markdown",
      "metadata": {
        "id": "jp3PvDghnJkY",
        "colab_type": "text"
      },
      "source": [
        "**Task:** Divide the value stored in the variable *number* by 2 and then calculate the remainder"
      ]
    },
    {
      "cell_type": "code",
      "metadata": {
        "id": "oMY_MZjmndQj",
        "colab_type": "code",
        "colab": {
          "base_uri": "https://localhost:8080/",
          "height": 50
        },
        "outputId": "ff96f451-27cf-45ed-b1fc-f31f72ae6051"
      },
      "source": [
        "number = 9.0        # float number\n",
        "\n",
        "result = number / 2\n",
        "\n",
        "remainder = number % 2\n",
        "\n",
        "print(\"result = \" + str(result))\n",
        "print(\"remainder = \" + str(remainder))"
      ],
      "execution_count": 9,
      "outputs": [
        {
          "output_type": "stream",
          "text": [
            "result = 4.5\n",
            "remainder = 1.0\n"
          ],
          "name": "stdout"
        }
      ]
    },
    {
      "cell_type": "markdown",
      "metadata": {
        "id": "OUWeht_8nyCx",
        "colab_type": "text"
      },
      "source": [
        "## Assignments\n",
        "Augmented assignment is a single statement combining a binary operation and an assigment statement suc as +=, -=, etc."
      ]
    },
    {
      "cell_type": "markdown",
      "metadata": {
        "id": "r-6ImrKCobv_",
        "colab_type": "text"
      },
      "source": [
        "\n",
        "\n",
        "```\n",
        "number = 9.0\n",
        "print(\"number = \" + str(number))\n",
        "\n",
        "number -= 2\n",
        "print(\"number = \" + str(number))\n",
        "\n",
        "number operator 5\n",
        "\n",
        "print(\"number = \" + str(number))\n",
        "```\n",
        "\n"
      ]
    },
    {
      "cell_type": "markdown",
      "metadata": {
        "id": "Du5w88EaovzQ",
        "colab_type": "text"
      },
      "source": [
        "**Task:** Use an augmented assignment to add 5 to number and upfate the variable."
      ]
    },
    {
      "cell_type": "code",
      "metadata": {
        "id": "ro0-FwgDpCkx",
        "colab_type": "code",
        "colab": {
          "base_uri": "https://localhost:8080/",
          "height": 67
        },
        "outputId": "34f109c2-a9e3-4e3d-bfad-a073a8792be5"
      },
      "source": [
        "number = 9.0\n",
        "print(\"number = \" + str(number))\n",
        "\n",
        "number -= 2\n",
        "print(\"number = \" + str(number))\n",
        "\n",
        "number += 5\n",
        "\n",
        "print(\"number = \" + str(number))"
      ],
      "execution_count": 10,
      "outputs": [
        {
          "output_type": "stream",
          "text": [
            "number = 9.0\n",
            "number = 7.0\n",
            "number = 12.0\n"
          ],
          "name": "stdout"
        }
      ]
    },
    {
      "cell_type": "markdown",
      "metadata": {
        "id": "C0G673j0pQD4",
        "colab_type": "text"
      },
      "source": [
        "## Boolean Operators\n",
        "Boolean is a type of value that can only be *True* or *False*. The == (equality) operators checks whether the two variables being compared are equal."
      ]
    },
    {
      "cell_type": "markdown",
      "metadata": {
        "id": "Trd3P6X4pwbu",
        "colab_type": "text"
      },
      "source": [
        "\n",
        "\n",
        "```\n",
        "two = 2\n",
        "three = 3\n",
        "\n",
        "is_equal = two operator three\n",
        "\n",
        "print(is_equal)\n",
        "```\n",
        "\n"
      ]
    },
    {
      "cell_type": "markdown",
      "metadata": {
        "id": "QSvUSLN4p7Ra",
        "colab_type": "text"
      },
      "source": [
        "**Task:** Check whether the variable *two* is equal to *three*"
      ]
    },
    {
      "cell_type": "code",
      "metadata": {
        "id": "ihVP2eQpttpv",
        "colab_type": "code",
        "colab": {
          "base_uri": "https://localhost:8080/",
          "height": 34
        },
        "outputId": "d0876e8f-fbae-4382-b50f-b8762c51a3ba"
      },
      "source": [
        "two = 2\n",
        "three = 3\n",
        "\n",
        "is_equal = two == three\n",
        "\n",
        "print(is_equal)"
      ],
      "execution_count": 11,
      "outputs": [
        {
          "output_type": "stream",
          "text": [
            "False\n"
          ],
          "name": "stdout"
        }
      ]
    },
    {
      "cell_type": "markdown",
      "metadata": {
        "id": "NU2bhXlwuUtj",
        "colab_type": "text"
      },
      "source": [
        "## Comparison Operators\n",
        "Python has many types of operators including >=, <=, >, <, etc. All comparison operations in Python have the same priority. Comparisons yield boolean values: either *True* or *False*. Comparisons can be chained arbitrarily."
      ]
    },
    {
      "cell_type": "markdown",
      "metadata": {
        "id": "kUkH4Qe6vBIm",
        "colab_type": "text"
      },
      "source": [
        "\n",
        "\n",
        "```\n",
        "one = 1\n",
        "two = 2\n",
        "three = 3\n",
        "\n",
        "print(one < two < three)  # This chained comparison means that the (one < two) and (two < three) comparisons are performed at the same time.\n",
        "\n",
        "is_greater = three operator two\n",
        "print(is_greater)\n",
        "```\n",
        "\n"
      ]
    },
    {
      "cell_type": "markdown",
      "metadata": {
        "id": "JrbnTUNavEsJ",
        "colab_type": "text"
      },
      "source": [
        "**Task:** Check whether the value of the variable *three* is strictly greater than the value of the variable *two*."
      ]
    },
    {
      "cell_type": "code",
      "metadata": {
        "id": "chsHnUn9vWDA",
        "colab_type": "code",
        "colab": {
          "base_uri": "https://localhost:8080/",
          "height": 50
        },
        "outputId": "8ea6d83d-dd95-4ae2-9850-5ef5392468e5"
      },
      "source": [
        "one = 1\n",
        "two = 2\n",
        "three = 3\n",
        "\n",
        "print(one < two < three)  # This chained comparison means that the (one < two) and (two < three) comparisons are performed at the same time.\n",
        "\n",
        "is_greater = three > two\n",
        "print(is_greater)"
      ],
      "execution_count": 12,
      "outputs": [
        {
          "output_type": "stream",
          "text": [
            "True\n",
            "True\n"
          ],
          "name": "stdout"
        }
      ]
    }
  ]
}