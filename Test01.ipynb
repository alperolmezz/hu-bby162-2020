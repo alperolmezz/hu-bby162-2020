{
  "nbformat": 4,
  "nbformat_minor": 0,
  "metadata": {
    "colab": {
      "name": "Test01.ipynb",
      "provenance": [],
      "authorship_tag": "ABX9TyN/zMJi9habMf0wfC8x1Q82",
      "include_colab_link": true
    },
    "kernelspec": {
      "name": "python3",
      "display_name": "Python 3"
    }
  },
  "cells": [
    {
      "cell_type": "markdown",
      "metadata": {
        "id": "view-in-github",
        "colab_type": "text"
      },
      "source": [
        "<a href=\"https://colab.research.google.com/github/orcunmadran/hu-bby162-2020/blob/master/Test01.ipynb\" target=\"_parent\"><img src=\"https://colab.research.google.com/assets/colab-badge.svg\" alt=\"Open In Colab\"/></a>"
      ]
    },
    {
      "cell_type": "code",
      "metadata": {
        "id": "PRtF6Bd_b2Xg",
        "colab_type": "code",
        "outputId": "17e0df67-61ca-437a-d649-62e2b271b77d",
        "colab": {
          "base_uri": "https://localhost:8080/",
          "height": 102
        }
      },
      "source": [
        "urunAdi = \"Bisiklet\"\n",
        "butce = 3000\n",
        "urunFiyati = 1000\n",
        "urunAdet = 6\n",
        "urunOdeme = urunFiyati * urunAdet\n",
        "print(urunOdeme)\n",
        "print(\"Bütçeniz: \" + str(butce))\n",
        "print(\"Toplam fiyat: \" + str(urunOdeme))\n",
        "sonuc = butce > urunOdeme\n",
        "print(\"Almak istediğiniz \" + str(urunAdet)+ \" \" + urunAdi + \" \" + str(urunOdeme)+ \" TL'dir.\")\n",
        "print(\"Alabilir misiniz? \"+ str(sonuc))\n"
      ],
      "execution_count": 94,
      "outputs": [
        {
          "output_type": "stream",
          "text": [
            "6000\n",
            "Bütçeniz: 3000\n",
            "Toplam fiyat: 6000\n",
            "Almak istediğiniz 6 Bisiklet 6000 TL'dir.\n",
            "Alabilir misiniz? False\n"
          ],
          "name": "stdout"
        }
      ]
    }
  ]
}